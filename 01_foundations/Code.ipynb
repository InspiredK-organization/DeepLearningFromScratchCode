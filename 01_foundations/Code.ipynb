{
  "cells": [
    {
      "cell_type": "markdown",
      "metadata": {
        "id": "iUWp1P8fKfhm"
      },
      "source": [
        "## Imports"
      ]
    },
    {
      "cell_type": "code",
      "execution_count": null,
      "metadata": {
        "id": "4VKeEZuxKfho"
      },
      "outputs": [],
      "source": [
        "import matplotlib.pyplot as plt\n",
        "import matplotlib\n",
        "import numpy as np\n",
        "from numpy import ndarray\n",
        "%matplotlib inline\n",
        "\n",
        "from typing import Callable\n",
        "from typing import Dict"
      ]
    },
    {
      "cell_type": "code",
      "execution_count": null,
      "metadata": {
        "id": "rMZ9GrD3Kfho"
      },
      "outputs": [],
      "source": [
        "np.set_printoptions(precision=4)"
      ]
    },
    {
      "cell_type": "markdown",
      "metadata": {
        "id": "6aaNWBxpKfho"
      },
      "source": [
        "# Illustration of Python lists vs. Numpy arrays"
      ]
    },
    {
      "cell_type": "code",
      "execution_count": null,
      "metadata": {
        "id": "3atpuuerKfhp"
      },
      "outputs": [],
      "source": [
        "print(\"Python list operations:\")\n",
        "a = [1,2,3]\n",
        "b = [4,5,6]\n",
        "print(\"a+b:\", a + b)\n",
        "try:\n",
        "    print(a * b)\n",
        "except TypeError:\n",
        "    print(\"a*b has no meaning for Python lists\")\n",
        "print()\n",
        "print(\"Numpy array operations:\")\n",
        "a = np.array([1,2,3])\n",
        "b = np.array([4,5,6])\n",
        "print(\"a+b:\", a + b)\n",
        "print(\"a*b:\", a * b)"
      ]
    },
    {
      "cell_type": "code",
      "execution_count": null,
      "metadata": {
        "id": "snS2zbjDKfhp"
      },
      "outputs": [],
      "source": [
        "a = np.array([[1,2,3],\n",
        "              [4,5,6]])\n",
        "print(a)"
      ]
    },
    {
      "cell_type": "code",
      "execution_count": null,
      "metadata": {
        "id": "720QV3hoKfhp"
      },
      "outputs": [],
      "source": [
        "b = np.array([10,20,30])\n",
        "print(\"a + b:\\n\", a + b)"
      ]
    },
    {
      "cell_type": "code",
      "execution_count": null,
      "metadata": {
        "id": "F43bCq5RKfhp"
      },
      "outputs": [],
      "source": [
        "print('a:')\n",
        "print(a)\n",
        "print('a.sum(axis=0):', a.sum(axis=0))\n",
        "print('a.sum(axis=1):', a.sum(axis=1))"
      ]
    },
    {
      "cell_type": "markdown",
      "metadata": {
        "id": "QzpSsuDuKfhq"
      },
      "source": [
        "# Basic functions"
      ]
    },
    {
      "cell_type": "code",
      "execution_count": null,
      "metadata": {
        "id": "vBUZD-YSKfhq"
      },
      "outputs": [],
      "source": [
        "def square(x: ndarray) -> ndarray:\n",
        "    '''\n",
        "    Square each element in the input ndarray.\n",
        "    '''\n",
        "    return np.power(x, 2)\n",
        "\n",
        "def leaky_relu(x: ndarray) -> ndarray:\n",
        "    '''\n",
        "    Apply \"Leaky ReLU\" function to each element in ndarray\n",
        "    '''\n",
        "    return np.maximum(0.2 * x, x)"
      ]
    },
    {
      "cell_type": "code",
      "execution_count": null,
      "metadata": {
        "id": "vLgBhf1-Kfhq"
      },
      "outputs": [],
      "source": [
        "# IMG_FOLDER_PATH = '/Users/seth/development/01_deep-learning-from-scratch/images/01_foundations/'\n",
        "# PDF_IMG_FOLDER_PATH = '/Users/seth/development/01_deep-learning-from-scratch/pdf_images/01_foundations/'"
      ]
    },
    {
      "cell_type": "code",
      "execution_count": null,
      "metadata": {
        "id": "Zq4_LpA9Kfhq"
      },
      "outputs": [],
      "source": [
        "fig, ax = plt.subplots(1, 2, sharey=True, figsize=(12, 6))  # 2 Rows, 1 Col\n",
        "\n",
        "input_range = np.arange(-2, 2, 0.01)\n",
        "ax[0].plot(input_range, square(input_range))\n",
        "ax[0].set_title('Square function')\n",
        "ax[0].set_xlabel('input')\n",
        "ax[0].set_ylabel('output')\n",
        "\n",
        "ax[1].plot(input_range, leaky_relu(input_range))\n",
        "ax[1].set_title('\"ReLU\" function')\n",
        "ax[1].set_xlabel('input')\n",
        "ax[1].set_ylabel('output');\n",
        "# plt.savefig(IMG_FOLDER_PATH + \"01_two_functions.png\")\n",
        "# plt.savefig(PDF_IMG_FOLDER_PATH + \"01_two_functions.pdf\")"
      ]
    },
    {
      "cell_type": "code",
      "execution_count": null,
      "metadata": {
        "id": "LXgQMRt9Kfhq"
      },
      "outputs": [],
      "source": [
        "from typing import Callable\n",
        "\n",
        "def deriv(func: Callable[[ndarray], ndarray],\n",
        "          input_: ndarray,\n",
        "          diff: float = 0.001) -> ndarray:\n",
        "    '''\n",
        "    Evaluates the derivative of a function \"func\" at every element in the \"input_\" array.\n",
        "    '''\n",
        "    return (func(input_ + diff) - func(input_ - diff)) / (2 * diff)"
      ]
    },
    {
      "cell_type": "markdown",
      "metadata": {
        "id": "ZYNrfu2ZKfhq"
      },
      "source": [
        "# `Chain`"
      ]
    },
    {
      "cell_type": "code",
      "execution_count": null,
      "metadata": {
        "id": "WghyCEpwKfhq"
      },
      "outputs": [],
      "source": [
        "from typing import List\n",
        "\n",
        "# A Function takes in an ndarray as an argument and produces an ndarray\n",
        "Array_Function = Callable[[ndarray], ndarray]\n",
        "\n",
        "# A Chain is a list of functions\n",
        "Chain = List[Array_Function]"
      ]
    },
    {
      "cell_type": "code",
      "execution_count": null,
      "metadata": {
        "id": "WboyByUkKfhq"
      },
      "outputs": [],
      "source": [
        "def chain_length_2(chain: Chain,\n",
        "                   x: ndarray) -> ndarray:\n",
        "    '''\n",
        "    Evaluates two functions in a row, in a \"Chain\".\n",
        "    '''\n",
        "    assert len(chain) == 2, \\\n",
        "    \"Length of input 'chain' should be 2\"\n",
        "\n",
        "    f1 = chain[0]\n",
        "    f2 = chain[1]\n",
        "\n",
        "    return f2(f1(x))"
      ]
    },
    {
      "cell_type": "markdown",
      "metadata": {
        "id": "ZQuB3QcXKfhq"
      },
      "source": [
        "## Chain derivative"
      ]
    },
    {
      "cell_type": "code",
      "execution_count": null,
      "metadata": {
        "id": "PET-UyskKfhr"
      },
      "outputs": [],
      "source": [
        "def square(x: ndarray) -> ndarray:\n",
        "    '''\n",
        "    Square each element in the input Tensor.\n",
        "    '''\n",
        "    return np.power(x, 2)\n",
        "\n",
        "def sigmoid(x: ndarray) -> ndarray:\n",
        "    '''\n",
        "    Apply the sigmoid function to each element in the input ndarray.\n",
        "    '''\n",
        "    return 1 / (1 + np.exp(-x))"
      ]
    },
    {
      "cell_type": "code",
      "execution_count": null,
      "metadata": {
        "id": "nenTl4WfKfhr"
      },
      "outputs": [],
      "source": [
        "def chain_deriv_2(chain: Chain,\n",
        "                  input_range: ndarray) -> ndarray:\n",
        "    '''\n",
        "    Uses the chain rule to compute the derivative of two nested functions:\n",
        "    (f2(f1(x))' = f2'(f1(x)) * f1'(x)\n",
        "    '''\n",
        "\n",
        "    assert len(chain) == 2, \\\n",
        "    \"This function requires 'Chain' objects of length 2\"\n",
        "\n",
        "    assert input_range.ndim == 1, \\\n",
        "    \"Function requires a 1 dimensional ndarray as input_range\"\n",
        "\n",
        "    f1 = chain[0]\n",
        "    f2 = chain[1]\n",
        "\n",
        "    # df1/dx\n",
        "    f1_of_x = f1(input_range)\n",
        "\n",
        "    # df1/du\n",
        "    df1dx = deriv(f1, input_range)\n",
        "\n",
        "    # df2/du(f1(x))\n",
        "    df2du = deriv(f2, f1_of_x)\n",
        "\n",
        "    # Multiplying these quantities together at each point\n",
        "    return df1dx * df2du"
      ]
    },
    {
      "cell_type": "code",
      "execution_count": null,
      "metadata": {
        "id": "JOglbdAyKfhr"
      },
      "outputs": [],
      "source": [
        "def plot_chain(ax,\n",
        "               chain: Chain,\n",
        "               input_range: ndarray) -> None:\n",
        "    '''\n",
        "    Plots a chain function - a function made up of\n",
        "    multiple consecutive ndarray -> ndarray mappings -\n",
        "    Across the input_range\n",
        "\n",
        "    ax: matplotlib Subplot for plotting\n",
        "    '''\n",
        "\n",
        "    assert input_range.ndim == 1, \\\n",
        "    \"Function requires a 1 dimensional ndarray as input_range\"\n",
        "\n",
        "    output_range = chain_length_2(chain, input_range)\n",
        "    ax.plot(input_range, output_range)"
      ]
    },
    {
      "cell_type": "code",
      "execution_count": null,
      "metadata": {
        "id": "xiZd94JMKfhr"
      },
      "outputs": [],
      "source": [
        "def plot_chain_deriv(ax,\n",
        "                     chain: Chain,\n",
        "                     input_range: ndarray) -> ndarray:\n",
        "    '''\n",
        "    Uses the chain rule to plot the derivative of a function consisting of two nested functions.\n",
        "\n",
        "    ax: matplotlib Subplot for plotting\n",
        "    '''\n",
        "    output_range = chain_deriv_2(chain, input_range)\n",
        "    ax.plot(input_range, output_range)"
      ]
    },
    {
      "cell_type": "code",
      "execution_count": null,
      "metadata": {
        "id": "c3rWsOEAKfhr"
      },
      "outputs": [],
      "source": [
        "fig, ax = plt.subplots(1, 2, sharey=True, figsize=(16, 8))  # 2 Rows, 1 Col\n",
        "\n",
        "chain_1 = [square, sigmoid]\n",
        "chain_2 = [sigmoid, square]\n",
        "\n",
        "PLOT_RANGE = np.arange(-5, 5, 0.01)\n",
        "\n",
        "plot_chain(ax[0], chain_1, PLOT_RANGE)\n",
        "plot_chain_deriv(ax[0], chain_1, PLOT_RANGE)\n",
        "ax[0].legend([\"$f(x)$\", \"$\\\\frac{df}{dx}$\"])\n",
        "ax[0].set_title(\"Function and derivative for\\n$f(x) = sigmoid(square(x))$\")\n",
        "\n",
        "plot_chain(ax[1], chain_2, PLOT_RANGE)\n",
        "plot_chain_deriv(ax[1], chain_2, PLOT_RANGE)\n",
        "ax[1].legend([\"$f(x)$\", \"$\\\\frac{df}{dx}$\"])\n",
        "ax[1].set_title(\"Function and derivative for\\n$f(x) = square(sigmoid(x))$\");\n",
        "\n",
        "# plt.savefig(IMG_FOLDER_PATH + \"08_plot_chain_rule_1.png\");\n",
        "# plt.savefig(PDF_IMG_FOLDER_PATH + \"08_plot_chain_rule_1.pdf\");"
      ]
    },
    {
      "cell_type": "markdown",
      "metadata": {
        "id": "wNdpeWS6Kfhr"
      },
      "source": [
        "# `Chain of length 3`"
      ]
    },
    {
      "cell_type": "code",
      "execution_count": null,
      "metadata": {
        "id": "WEYqsuBqKfhr"
      },
      "outputs": [],
      "source": [
        "def chain_length_3(chain: Chain,\n",
        "                   x: ndarray) -> ndarray:\n",
        "    '''\n",
        "    Evaluates three functions in a row, in a \"Chain\".\n",
        "    '''\n",
        "    assert len(chain) == 3, \\\n",
        "    \"Length of input 'chain' should be 3\"\n",
        "\n",
        "    f1 = chain[0]\n",
        "    f2 = chain[1]\n",
        "    f3 = chain[2]\n",
        "\n",
        "    return f3(f2(f1(x)))"
      ]
    },
    {
      "cell_type": "code",
      "execution_count": null,
      "metadata": {
        "id": "a0uqINnTKfhr"
      },
      "outputs": [],
      "source": [
        "def chain_deriv_3(chain: Chain,\n",
        "                  input_range: ndarray) -> ndarray:\n",
        "    '''\n",
        "    Uses the chain rule to compute the derivative of three nested functions:\n",
        "    (f3(f2(f1)))' = f3'(f2(f1(x))) * f2'(f1(x)) * f1'(x)\n",
        "    '''\n",
        "\n",
        "    assert len(chain) == 3, \\\n",
        "    \"This function requires 'Chain' objects to have length 3\"\n",
        "\n",
        "    f1 = chain[0]\n",
        "    f2 = chain[1]\n",
        "    f3 = chain[2]\n",
        "\n",
        "    # f1(x)\n",
        "    f1_of_x = f1(input_range)\n",
        "\n",
        "    # f2(f1(x))\n",
        "    f2_of_x = f2(f1_of_x)\n",
        "\n",
        "    # df3du\n",
        "    df3du = deriv(f3, f2_of_x)\n",
        "\n",
        "    # df2du\n",
        "    df2du = deriv(f2, f1_of_x)\n",
        "\n",
        "    # df1dx\n",
        "    df1dx = deriv(f1, input_range)\n",
        "\n",
        "    # Multiplying these quantities together at each point\n",
        "    return df1dx * df2du * df3du"
      ]
    },
    {
      "cell_type": "code",
      "execution_count": null,
      "metadata": {
        "id": "IuxVi2T9Kfhr"
      },
      "outputs": [],
      "source": [
        "def square(x: ndarray) -> ndarray:\n",
        "    '''\n",
        "    Square each element in the input ndarray.\n",
        "    '''\n",
        "    return np.power(x, 2)\n",
        "\n",
        "def leaky_relu(x: ndarray) -> ndarray:\n",
        "    '''\n",
        "    Apply \"Leaky ReLU\" function to each element in ndarray\n",
        "    '''\n",
        "    return np.maximum(0.2 * x, x)\n",
        "\n",
        "def sigmoid(x: ndarray) -> ndarray:\n",
        "    '''\n",
        "    Apply \"sigmoid\" function to each element in ndarray\n",
        "    '''\n",
        "    return 1 / (1 + np.exp(-x))"
      ]
    },
    {
      "cell_type": "code",
      "execution_count": null,
      "metadata": {
        "id": "oIWWLLVqKfhr"
      },
      "outputs": [],
      "source": [
        "def plot_chain(ax,\n",
        "               chain: Chain,\n",
        "               input_range: ndarray,\n",
        "               length: int=2) -> None:\n",
        "    '''\n",
        "    Plots a chain function - a function made up of\n",
        "    multiple consecutive ndarray -> ndarray mappings - across one range\n",
        "\n",
        "    ax: matplotlib Subplot for plotting\n",
        "    '''\n",
        "\n",
        "    assert input_range.ndim == 1, \\\n",
        "    \"Function requires a 1 dimensional ndarray as input_range\"\n",
        "    if length == 2:\n",
        "        output_range = chain_length_2(chain, input_range)\n",
        "    elif length == 3:\n",
        "        output_range = chain_length_3(chain, input_range)\n",
        "    ax.plot(input_range, output_range)"
      ]
    },
    {
      "cell_type": "code",
      "execution_count": null,
      "metadata": {
        "id": "cOv6PchGKfhs"
      },
      "outputs": [],
      "source": [
        "def plot_chain_deriv(ax,\n",
        "                     chain: Chain,\n",
        "                     input_range: ndarray,\n",
        "                     length: int=2) -> ndarray:\n",
        "    '''\n",
        "    Uses the chain rule to plot the derivative of two nested functions.\n",
        "\n",
        "    ax: matplotlib Subplot for plotting\n",
        "    '''\n",
        "\n",
        "    if length == 2:\n",
        "        output_range = chain_deriv_2(chain, input_range)\n",
        "    elif length == 3:\n",
        "        output_range = chain_deriv_3(chain, input_range)\n",
        "    ax.plot(input_range, output_range)"
      ]
    },
    {
      "cell_type": "code",
      "execution_count": null,
      "metadata": {
        "id": "1EuihQ8GKfhs"
      },
      "outputs": [],
      "source": [
        "fig, ax = plt.subplots(1, 2, sharey=True, figsize=(16, 8))  # 2 Rows, 1 Col\n",
        "\n",
        "chain_1 = [leaky_relu, square, sigmoid]\n",
        "chain_2 = [leaky_relu, sigmoid, square]\n",
        "\n",
        "PLOT_RANGE = np.arange(-5, 5, 0.01)\n",
        "plot_chain(ax[0], chain_1, PLOT_RANGE, length=3)\n",
        "plot_chain_deriv(ax[0], chain_1, PLOT_RANGE, length=3)\n",
        "\n",
        "ax[0].legend([\"$f(x)$\", \"$\\\\frac{df}{dx}$\"])\n",
        "ax[0].set_title(\"Function and derivative for\\n$f(x) = sigmoid(square(leakyRelu(x)))$\")\n",
        "\n",
        "plot_chain(ax[1], chain_2, PLOT_RANGE, length=3)\n",
        "plot_chain_deriv(ax[1], chain_2, PLOT_RANGE, length=3)\n",
        "ax[1].legend([\"$f(x)$\", \"$\\\\frac{df}{dx}$\"])\n",
        "ax[1].set_title(\"Function and derivative for\\n$f(x) = square(sigmoid(leakyRelu(x)))$\");\n",
        "\n",
        "# plt.savefig(IMG_FOLDER_PATH + \"09_plot_chain_rule_2.png\");\n",
        "# plt.savefig(PDF_IMG_FOLDER_PATH + \"09_plot_chain_rule_2.pdf\");"
      ]
    },
    {
      "cell_type": "markdown",
      "metadata": {
        "id": "D5o2uEajKfhs"
      },
      "source": [
        "# Function with multiple inputs example"
      ]
    },
    {
      "cell_type": "code",
      "execution_count": null,
      "metadata": {
        "id": "An2cddVCKfhs"
      },
      "outputs": [],
      "source": [
        "def multiple_inputs_add(x: ndarray,\n",
        "                        y: ndarray,\n",
        "                        sigma: Array_Function) -> float:\n",
        "    '''\n",
        "    Function with multiple inputs and addition, forward pass\n",
        "    '''\n",
        "    assert x.shape == y.shape\n",
        "\n",
        "    a = x + y\n",
        "    return sigma(a)"
      ]
    },
    {
      "cell_type": "code",
      "execution_count": null,
      "metadata": {
        "id": "i9tRF01hKfhs"
      },
      "outputs": [],
      "source": [
        "def multiple_inputs_add_backward(x: ndarray,\n",
        "                                 y: ndarray,\n",
        "                                 sigma: Array_Function) -> float:\n",
        "    '''\n",
        "    Computes the derivative of this simple function with respect to\n",
        "    both inputs\n",
        "    '''\n",
        "    # Compute \"forward pass\"\n",
        "    a = x + y\n",
        "\n",
        "    # Compute derivatives\n",
        "    dsda = deriv(sigma, a)\n",
        "\n",
        "    dadx, dady = 1, 1\n",
        "\n",
        "    return dsda * dadx, dsda * dady"
      ]
    },
    {
      "cell_type": "markdown",
      "metadata": {
        "id": "ew47a0wiKfhs"
      },
      "source": [
        "# Function with matrix multiplication"
      ]
    },
    {
      "cell_type": "code",
      "execution_count": null,
      "metadata": {
        "id": "wuEd4bFNKfhs"
      },
      "outputs": [],
      "source": [
        "def matmul_forward(X: ndarray,\n",
        "                   W: ndarray) -> ndarray:\n",
        "    '''\n",
        "    Computes the forward pass of a matrix multiplication\n",
        "    '''\n",
        "\n",
        "    assert X.shape[1] == W.shape[0], \\\n",
        "    '''\n",
        "    For matrix multiplication, the number of columns in the first array should match the\n",
        "    number of rows in the second, instead the number of columns in the first array is {0}\n",
        "    and the number of rows in the second array is {1}\n",
        "    '''.format(X.shape[1], W.shape[0])\n",
        "\n",
        "    # matrix multiplication\n",
        "    N = np.dot(X, W)\n",
        "\n",
        "    return N"
      ]
    },
    {
      "cell_type": "code",
      "execution_count": null,
      "metadata": {
        "id": "_S7591T8Kfhs"
      },
      "outputs": [],
      "source": [
        "def matmul_backward_first(X: ndarray,\n",
        "                          W: ndarray) -> ndarray:\n",
        "    '''\n",
        "    Computes the backward pass of a matrix multiplication with respect to the first argument.\n",
        "    '''\n",
        "\n",
        "    # backward pass\n",
        "    dNdX = np.transpose(W, (1, 0))\n",
        "\n",
        "    return dNdX"
      ]
    },
    {
      "cell_type": "code",
      "execution_count": null,
      "metadata": {
        "id": "AIUTAasGKfht"
      },
      "outputs": [],
      "source": [
        "np.random.seed(190203)\n",
        "\n",
        "X = np.random.randn(1,3)\n",
        "W = np.random.randn(3,1)\n",
        "\n",
        "print(X)\n",
        "matmul_backward_first(X, W)"
      ]
    },
    {
      "cell_type": "code",
      "execution_count": null,
      "metadata": {
        "id": "Yw65CoNwKfht"
      },
      "outputs": [],
      "source": [
        "def matrix_forward_extra(X: ndarray,\n",
        "                         W: ndarray,\n",
        "                         sigma: Array_Function) -> ndarray:\n",
        "    '''\n",
        "    Computes the forward pass of a function involving matrix multiplication, one extra function\n",
        "    '''\n",
        "    assert X.shape[1] == W.shape[0]\n",
        "\n",
        "    # matrix multiplication\n",
        "    N = np.dot(X, W)\n",
        "\n",
        "    # feeding the output of the matrix multiplication through sigma\n",
        "    S = sigma(N)\n",
        "\n",
        "    return S"
      ]
    },
    {
      "cell_type": "markdown",
      "metadata": {
        "id": "yWfRnLCMKfht"
      },
      "source": [
        "# Derivative of a function with matrix multiplication"
      ]
    },
    {
      "cell_type": "markdown",
      "metadata": {
        "id": "hfRxP-E7Kfht"
      },
      "source": [
        "If:\n",
        "\n",
        "* $X$ is $m x n$\n",
        "* $W$ is $n x p$\n",
        "\n",
        "Then $X * W$ will be $m x p$:\n",
        "\n",
        "If the derivative of a loss with respect to each output $N$ is $m x p$, then\n",
        "\n",
        "* $\\frac{\\partial N}{\\partial X} = N * W^T$ (`np.dot((m,p), (p,n)) = m x n`\n",
        "* $\\frac{\\partial N}{\\partial W} = X^T * N$ (`np.dot((n,m), (m,p)) = n x p`\n",
        "\n",
        "In particular, the matrix multiplication on the backward pass must be done in this order."
      ]
    },
    {
      "cell_type": "code",
      "execution_count": null,
      "metadata": {
        "id": "pYWncTnSKfht"
      },
      "outputs": [],
      "source": [
        "def matrix_function_backward_1(X: ndarray,\n",
        "                               W: ndarray,\n",
        "                               sigma: Array_Function) -> ndarray:\n",
        "    '''\n",
        "    Computes the derivative of our matrix function with respect to\n",
        "    the first element.\n",
        "    '''\n",
        "    assert X.shape[1] == W.shape[0]\n",
        "\n",
        "    # matrix multiplication\n",
        "    N = np.dot(X, W)\n",
        "\n",
        "    # feeding the output of the matrix multiplication through sigma\n",
        "    S = sigma(N)\n",
        "\n",
        "    # backward calculation\n",
        "    dSdN = deriv(sigma, N)\n",
        "\n",
        "    # dNdX\n",
        "    dNdX = np.transpose(W, (1, 0))\n",
        "\n",
        "    # multiply them together; since dNdX is 1x1 here, order doesn't matter\n",
        "    return np.dot(dSdN, dNdX)"
      ]
    },
    {
      "cell_type": "code",
      "execution_count": null,
      "metadata": {
        "id": "ufOCmhh6Kfht"
      },
      "outputs": [],
      "source": [
        "print(matrix_function_backward_1(X, W, sigmoid))"
      ]
    },
    {
      "cell_type": "code",
      "execution_count": null,
      "metadata": {
        "id": "U7s-RvUJKfht"
      },
      "outputs": [],
      "source": [
        "def forward_test(ind1, ind2, inc):\n",
        "\n",
        "    X1 = X.copy()\n",
        "    X1[ind1, ind2] = X[ind1, ind2] + inc\n",
        "\n",
        "    return matrix_forward_extra(X1, W, sigmoid)"
      ]
    },
    {
      "cell_type": "code",
      "execution_count": null,
      "metadata": {
        "id": "elu-hcZiKfht"
      },
      "outputs": [],
      "source": [
        "(np.round(forward_test(0, 2, 0.01) - forward_test(0, 2, 0), 4)) / 0.01"
      ]
    },
    {
      "cell_type": "code",
      "execution_count": null,
      "metadata": {
        "id": "bopcQ0X1Kfhu"
      },
      "outputs": [],
      "source": [
        "np.round(matrix_function_backward_1(X, W, sigmoid)[0, 2], 2)"
      ]
    },
    {
      "cell_type": "markdown",
      "metadata": {
        "id": "FCvPwCWtKfhu"
      },
      "source": [
        "Same! Gradients check."
      ]
    },
    {
      "cell_type": "markdown",
      "metadata": {
        "id": "X_mw-jU7Kfhu"
      },
      "source": [
        "# Matrix function with sum"
      ]
    },
    {
      "cell_type": "code",
      "execution_count": null,
      "metadata": {
        "id": "hKUxh7xPKfhu"
      },
      "outputs": [],
      "source": [
        "def matrix_function_forward_sum(X: ndarray,\n",
        "                                W: ndarray,\n",
        "                                sigma: Array_Function) -> float:\n",
        "    '''\n",
        "    Computing the result of the forward pass of this function with\n",
        "    input ndarrays X and W and function sigma.\n",
        "    '''\n",
        "    assert X.shape[1] == W.shape[0]\n",
        "\n",
        "    # matrix multiplication\n",
        "    N = np.dot(X, W)\n",
        "\n",
        "    # feeding the output of the matrix multiplication through sigma\n",
        "    S = sigma(N)\n",
        "\n",
        "    # sum all the elements\n",
        "    L = np.sum(S)\n",
        "\n",
        "    return L"
      ]
    },
    {
      "cell_type": "code",
      "execution_count": null,
      "metadata": {
        "id": "XmjeIqC6Kfhu"
      },
      "outputs": [],
      "source": [
        "def matrix_function_backward_1(X: ndarray,\n",
        "                               W: ndarray,\n",
        "                               sigma: Array_Function) -> ndarray:\n",
        "    '''\n",
        "    Computes the derivative of this function with respect to\n",
        "    the first element.\n",
        "    '''\n",
        "    assert X.shape[1] == W.shape[0]\n",
        "\n",
        "    # matrix multiplication\n",
        "    N = np.dot(X, W)\n",
        "\n",
        "    # feeding the output of the matrix multiplication through sigma\n",
        "    S = sigma(N)\n",
        "\n",
        "    # backward calculation\n",
        "    dSdN = deriv(sigma, N)\n",
        "\n",
        "    # dNdX\n",
        "    dNdX = np.transpose(W.transpose(0, 1))\n",
        "\n",
        "    # multiply them together; since dNdX is 1x1 here, order doesn't matter\n",
        "    return np.dot(dSdN, dNdX)"
      ]
    },
    {
      "cell_type": "markdown",
      "metadata": {
        "id": "gEQBh6ImKfhu"
      },
      "source": [
        "# Matrix function with two 2D matrices"
      ]
    },
    {
      "cell_type": "code",
      "execution_count": null,
      "metadata": {
        "id": "dd8KVDH4Kfhu"
      },
      "outputs": [],
      "source": [
        "def matrix_function_forward_sum(X: ndarray,\n",
        "                                W: ndarray,\n",
        "                                sigma: Array_Function) -> float:\n",
        "    '''\n",
        "    Computing the result of the forward pass of this function with\n",
        "    input ndarrays X and W and function sigma.\n",
        "    '''\n",
        "    assert X.shape[1] == W.shape[0]\n",
        "\n",
        "    # matrix multiplication\n",
        "    N = np.dot(X, W)\n",
        "\n",
        "    # feeding the output of the matrix multiplication through sigma\n",
        "    S = sigma(N)\n",
        "\n",
        "    # sum all the elements\n",
        "    L = np.sum(S)\n",
        "\n",
        "    return L"
      ]
    },
    {
      "cell_type": "code",
      "execution_count": null,
      "metadata": {
        "id": "CTXDCgCVKfhu"
      },
      "outputs": [],
      "source": [
        "def matrix_function_backward_sum_1(X: ndarray,\n",
        "                                   W: ndarray,\n",
        "                                   sigma: Array_Function) -> ndarray:\n",
        "    '''\n",
        "    Compute derivative of matrix function with a sum with respect to the\n",
        "    first matrix input\n",
        "    '''\n",
        "    assert X.shape[1] == W.shape[0]\n",
        "\n",
        "    # matrix multiplication\n",
        "    N = np.dot(X, W)\n",
        "\n",
        "    # feeding the output of the matrix multiplication through sigma\n",
        "    S = sigma(N)\n",
        "\n",
        "    # sum all the elements\n",
        "    L = np.sum(S)\n",
        "\n",
        "    # note: I'll refer to the derivatives by their quantities here,\n",
        "    # unlike the math where we referred to their function names\n",
        "\n",
        "    # dLdS - just 1s\n",
        "    dLdS = np.ones_like(S)\n",
        "\n",
        "    # dSdN\n",
        "    dSdN = deriv(sigma, N)\n",
        "\n",
        "    # dLdN\n",
        "    dLdN = dLdS * dSdN\n",
        "\n",
        "    # dNdX\n",
        "    dNdX = np.transpose(W, (1, 0))\n",
        "\n",
        "    # dLdX\n",
        "    dLdX = np.dot(dSdN, dNdX)\n",
        "\n",
        "    return dLdX"
      ]
    },
    {
      "cell_type": "markdown",
      "metadata": {
        "id": "mjYoqsbAKfhu"
      },
      "source": [
        "#### Testing"
      ]
    },
    {
      "cell_type": "code",
      "execution_count": null,
      "metadata": {
        "id": "qVP5JjC9Kfhu"
      },
      "outputs": [],
      "source": [
        "np.random.seed(190204)\n",
        "X = np.random.randn(3, 3)\n",
        "W = np.random.randn(3, 2)\n",
        "\n",
        "print(\"X:\")\n",
        "print(X)\n",
        "\n",
        "print(\"L:\")\n",
        "print(round(matrix_function_forward_sum(X, W, sigmoid), 4))\n",
        "print()\n",
        "print(\"dLdX:\")\n",
        "print(matrix_function_backward_sum_1(X, W , sigmoid))"
      ]
    },
    {
      "cell_type": "code",
      "execution_count": null,
      "metadata": {
        "id": "vwqRPgPzKfhu"
      },
      "outputs": [],
      "source": [
        "X1 = X.copy()\n",
        "X1[0, 0] += 0.001\n",
        "\n",
        "print(round(\n",
        "        (matrix_function_forward_sum(X1, W, sigmoid) - \\\n",
        "         matrix_function_forward_sum(X, W, sigmoid)) / 0.001, 4))"
      ]
    },
    {
      "cell_type": "markdown",
      "metadata": {
        "id": "mfhKf6CGKfhu"
      },
      "source": [
        "Same again!"
      ]
    },
    {
      "cell_type": "markdown",
      "metadata": {
        "id": "yW7-wp8FKfhu"
      },
      "source": [
        "### Plotting"
      ]
    },
    {
      "cell_type": "code",
      "execution_count": null,
      "metadata": {
        "id": "D3iqcrivKfhu"
      },
      "outputs": [],
      "source": [
        "def matrix_function_forward_sum(X: ndarray,\n",
        "                                W: ndarray,\n",
        "                                sigma: Array_Function,\n",
        "                                modify_x11: bool = False,\n",
        "                                x11: float = 0.5) -> float:\n",
        "    '''\n",
        "    Computing the result of the forward pass of this function with\n",
        "    input Tensors X and W and function sigma.\n",
        "    '''\n",
        "    assert X.shape[1] == W.shape[0]\n",
        "\n",
        "    if modify_x11:\n",
        "        X1 = X.copy()\n",
        "        X1[0][0] = x11\n",
        "\n",
        "    # matrix multiplication\n",
        "    N = np.dot(X1, W)\n",
        "\n",
        "    # feeding the output of the matrix multiplication through sigma\n",
        "    S = sigma(N)\n",
        "\n",
        "    # sum all the elements\n",
        "    L = np.sum(S)\n",
        "\n",
        "    return L"
      ]
    },
    {
      "cell_type": "code",
      "execution_count": null,
      "metadata": {
        "id": "cGkGU1s8Kfhu"
      },
      "outputs": [],
      "source": [
        "print(\"X:\")\n",
        "print(X)"
      ]
    },
    {
      "cell_type": "code",
      "execution_count": null,
      "metadata": {
        "id": "ov_Qt0V4Kfhu"
      },
      "outputs": [],
      "source": [
        "x11s = np.arange(X[0][0] - 1, X[0][0] + 1, 0.01)\n",
        "Ls = [matrix_function_forward_sum(X, W, sigmoid,\n",
        "                                  modify_x11 = True,\n",
        "                                  x11=x11) for x11 in x11s]"
      ]
    },
    {
      "cell_type": "code",
      "execution_count": null,
      "metadata": {
        "scrolled": true,
        "id": "dZs7JE7ZKfhu"
      },
      "outputs": [],
      "source": [
        "plt.plot(x11s, Ls);\n",
        "# plt.title(\"Value of $L$ as $x_{11}$ changes holding\\nother values of $X$ and $W$ constant\")\n",
        "plt.xlabel(\"$x_{11}$\")\n",
        "plt.ylabel(\"$L$\");\n",
        "# plt.savefig(IMG_FOLDER_PATH + \"18_x11_vs_L.png\");\n",
        "# plt.savefig(PDF_IMG_FOLDER_PATH + \"18_x11_vs_L.pdf\");"
      ]
    }
  ],
  "metadata": {
    "kernelspec": {
      "display_name": "Python 3",
      "name": "python3"
    },
    "language_info": {
      "codemirror_mode": {
        "name": "ipython",
        "version": 3
      },
      "file_extension": ".py",
      "mimetype": "text/x-python",
      "name": "python",
      "nbconvert_exporter": "python",
      "pygments_lexer": "ipython3",
      "version": "3.7.4"
    },
    "colab": {
      "provenance": []
    }
  },
  "nbformat": 4,
  "nbformat_minor": 0
}